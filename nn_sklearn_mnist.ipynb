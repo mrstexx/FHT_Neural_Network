{
 "cells": [
  {
   "cell_type": "markdown",
   "metadata": {},
   "source": [
    "# Computer Vision WS2020/2021 - Final Project"
   ]
  },
  {
   "cell_type": "markdown",
   "metadata": {},
   "source": [
    "## 1. Exercise"
   ]
  },
  {
   "cell_type": "markdown",
   "metadata": {},
   "source": [
    "Implement a simple neural network framework using Python and NumPy without using more complex frameworks such as Tensorflow, Scikit or Pytorch.\n",
    "\n",
    "It should be possible to define different neural network parameters, such as: layer-type (input, hidden, output, dropout, activation), number of layers, neurons per layer, activation function, learning rate etc.\n",
    "\n",
    "In the end, final framework should be applied on a computer vision dataset. For this could be used MNIST dataset to recognize handwritten digits. Following, the result and performance can be compared with the standard-sklearn implementation (MLPClassifier)."
   ]
  },
  {
   "cell_type": "markdown",
   "metadata": {},
   "source": [
    "## 2. Implementation"
   ]
  },
  {
   "cell_type": "markdown",
   "metadata": {},
   "source": [
    "The implementation of this exercise contains following steps:\n",
    "- Own neural network implementation\n",
    "- Importing and preparting MNIST dataset to be ready for training \n",
    "- Training the dataset on own neural network model\n",
    "- Training the dataset on Sklearn model\n",
    "- Comparing performance between these two networks/models (similar properties will be used for training)"
   ]
  },
  {
   "cell_type": "markdown",
   "metadata": {},
   "source": [
    "### 2.1 Neural Network Implementation"
   ]
  },
  {
   "cell_type": "markdown",
   "metadata": {},
   "source": [
    "The neural network is implemented in a separated file named 'neural_network.py'. From there will be imported all classes and methods used in this exercise/notebook for custom-network training and prediction."
   ]
  },
  {
   "cell_type": "markdown",
   "metadata": {},
   "source": [
    "### 2.2 Import MNIST Dataset & Prepare Data"
   ]
  },
  {
   "cell_type": "code",
   "execution_count": 26,
   "metadata": {},
   "outputs": [],
   "source": [
    "# first import all required libraries\n",
    "import os\n",
    "import random\n",
    "import numpy as np\n",
    "import pandas as pd\n",
    "import matplotlib.pyplot as plt\n",
    "from sklearn.metrics import accuracy_score"
   ]
  },
  {
   "cell_type": "code",
   "execution_count": 27,
   "metadata": {},
   "outputs": [],
   "source": [
    "# Seeding random number generators to obtain reproducible results\n",
    "seed_value = 0\n",
    "os.environ['PYTHONHASHSEED']=str(seed_value)\n",
    "random.seed(seed_value)\n",
    "np.random.seed(seed_value)"
   ]
  },
  {
   "cell_type": "code",
   "execution_count": 28,
   "metadata": {},
   "outputs": [
    {
     "data": {
      "text/html": [
       "<div>\n",
       "<style scoped>\n",
       "    .dataframe tbody tr th:only-of-type {\n",
       "        vertical-align: middle;\n",
       "    }\n",
       "\n",
       "    .dataframe tbody tr th {\n",
       "        vertical-align: top;\n",
       "    }\n",
       "\n",
       "    .dataframe thead th {\n",
       "        text-align: right;\n",
       "    }\n",
       "</style>\n",
       "<table border=\"1\" class=\"dataframe\">\n",
       "  <thead>\n",
       "    <tr style=\"text-align: right;\">\n",
       "      <th></th>\n",
       "      <th>label</th>\n",
       "      <th>1x1</th>\n",
       "      <th>1x2</th>\n",
       "      <th>1x3</th>\n",
       "      <th>1x4</th>\n",
       "      <th>1x5</th>\n",
       "      <th>1x6</th>\n",
       "      <th>1x7</th>\n",
       "      <th>1x8</th>\n",
       "      <th>1x9</th>\n",
       "      <th>...</th>\n",
       "      <th>28x19</th>\n",
       "      <th>28x20</th>\n",
       "      <th>28x21</th>\n",
       "      <th>28x22</th>\n",
       "      <th>28x23</th>\n",
       "      <th>28x24</th>\n",
       "      <th>28x25</th>\n",
       "      <th>28x26</th>\n",
       "      <th>28x27</th>\n",
       "      <th>28x28</th>\n",
       "    </tr>\n",
       "  </thead>\n",
       "  <tbody>\n",
       "    <tr>\n",
       "      <th>0</th>\n",
       "      <td>7</td>\n",
       "      <td>0</td>\n",
       "      <td>0</td>\n",
       "      <td>0</td>\n",
       "      <td>0</td>\n",
       "      <td>0</td>\n",
       "      <td>0</td>\n",
       "      <td>0</td>\n",
       "      <td>0</td>\n",
       "      <td>0</td>\n",
       "      <td>...</td>\n",
       "      <td>0</td>\n",
       "      <td>0</td>\n",
       "      <td>0</td>\n",
       "      <td>0</td>\n",
       "      <td>0</td>\n",
       "      <td>0</td>\n",
       "      <td>0</td>\n",
       "      <td>0</td>\n",
       "      <td>0</td>\n",
       "      <td>0</td>\n",
       "    </tr>\n",
       "    <tr>\n",
       "      <th>1</th>\n",
       "      <td>2</td>\n",
       "      <td>0</td>\n",
       "      <td>0</td>\n",
       "      <td>0</td>\n",
       "      <td>0</td>\n",
       "      <td>0</td>\n",
       "      <td>0</td>\n",
       "      <td>0</td>\n",
       "      <td>0</td>\n",
       "      <td>0</td>\n",
       "      <td>...</td>\n",
       "      <td>0</td>\n",
       "      <td>0</td>\n",
       "      <td>0</td>\n",
       "      <td>0</td>\n",
       "      <td>0</td>\n",
       "      <td>0</td>\n",
       "      <td>0</td>\n",
       "      <td>0</td>\n",
       "      <td>0</td>\n",
       "      <td>0</td>\n",
       "    </tr>\n",
       "    <tr>\n",
       "      <th>2</th>\n",
       "      <td>1</td>\n",
       "      <td>0</td>\n",
       "      <td>0</td>\n",
       "      <td>0</td>\n",
       "      <td>0</td>\n",
       "      <td>0</td>\n",
       "      <td>0</td>\n",
       "      <td>0</td>\n",
       "      <td>0</td>\n",
       "      <td>0</td>\n",
       "      <td>...</td>\n",
       "      <td>0</td>\n",
       "      <td>0</td>\n",
       "      <td>0</td>\n",
       "      <td>0</td>\n",
       "      <td>0</td>\n",
       "      <td>0</td>\n",
       "      <td>0</td>\n",
       "      <td>0</td>\n",
       "      <td>0</td>\n",
       "      <td>0</td>\n",
       "    </tr>\n",
       "    <tr>\n",
       "      <th>3</th>\n",
       "      <td>0</td>\n",
       "      <td>0</td>\n",
       "      <td>0</td>\n",
       "      <td>0</td>\n",
       "      <td>0</td>\n",
       "      <td>0</td>\n",
       "      <td>0</td>\n",
       "      <td>0</td>\n",
       "      <td>0</td>\n",
       "      <td>0</td>\n",
       "      <td>...</td>\n",
       "      <td>0</td>\n",
       "      <td>0</td>\n",
       "      <td>0</td>\n",
       "      <td>0</td>\n",
       "      <td>0</td>\n",
       "      <td>0</td>\n",
       "      <td>0</td>\n",
       "      <td>0</td>\n",
       "      <td>0</td>\n",
       "      <td>0</td>\n",
       "    </tr>\n",
       "    <tr>\n",
       "      <th>4</th>\n",
       "      <td>4</td>\n",
       "      <td>0</td>\n",
       "      <td>0</td>\n",
       "      <td>0</td>\n",
       "      <td>0</td>\n",
       "      <td>0</td>\n",
       "      <td>0</td>\n",
       "      <td>0</td>\n",
       "      <td>0</td>\n",
       "      <td>0</td>\n",
       "      <td>...</td>\n",
       "      <td>0</td>\n",
       "      <td>0</td>\n",
       "      <td>0</td>\n",
       "      <td>0</td>\n",
       "      <td>0</td>\n",
       "      <td>0</td>\n",
       "      <td>0</td>\n",
       "      <td>0</td>\n",
       "      <td>0</td>\n",
       "      <td>0</td>\n",
       "    </tr>\n",
       "  </tbody>\n",
       "</table>\n",
       "<p>5 rows × 785 columns</p>\n",
       "</div>"
      ],
      "text/plain": [
       "   label  1x1  1x2  1x3  1x4  1x5  1x6  1x7  1x8  1x9  ...  28x19  28x20  \\\n",
       "0      7    0    0    0    0    0    0    0    0    0  ...      0      0   \n",
       "1      2    0    0    0    0    0    0    0    0    0  ...      0      0   \n",
       "2      1    0    0    0    0    0    0    0    0    0  ...      0      0   \n",
       "3      0    0    0    0    0    0    0    0    0    0  ...      0      0   \n",
       "4      4    0    0    0    0    0    0    0    0    0  ...      0      0   \n",
       "\n",
       "   28x21  28x22  28x23  28x24  28x25  28x26  28x27  28x28  \n",
       "0      0      0      0      0      0      0      0      0  \n",
       "1      0      0      0      0      0      0      0      0  \n",
       "2      0      0      0      0      0      0      0      0  \n",
       "3      0      0      0      0      0      0      0      0  \n",
       "4      0      0      0      0      0      0      0      0  \n",
       "\n",
       "[5 rows x 785 columns]"
      ]
     },
     "execution_count": 28,
     "metadata": {},
     "output_type": "execute_result"
    }
   ],
   "source": [
    "# load dataset\n",
    "df = pd.read_csv(\"./Data/mnist.csv\", delimiter=',')\n",
    "df.head()"
   ]
  },
  {
   "cell_type": "code",
   "execution_count": 29,
   "metadata": {},
   "outputs": [
    {
     "name": "stdout",
     "output_type": "stream",
     "text": [
      "Number of train data:      7500\n",
      "Number of test data:       2500\n"
     ]
    }
   ],
   "source": [
    "# data preprocessing, extract labels and features\n",
    "labels = np.array(df.iloc[:,0])\n",
    "features = np.array(df.iloc[:,1:])\n",
    "\n",
    "# split training, validation and test data\n",
    "from sklearn.model_selection import train_test_split\n",
    "X_train, X_test, y_train, y_test = train_test_split(features, labels, train_size=0.75, random_state=seed_value)\n",
    "\n",
    "print(\"Number of train data:     \", len(X_train))\n",
    "print(\"Number of test data:      \", len(X_test))"
   ]
  },
  {
   "cell_type": "code",
   "execution_count": 30,
   "metadata": {},
   "outputs": [],
   "source": [
    "# standardise data\n",
    "X_train = X_train / 255\n",
    "X_test = X_test / 255"
   ]
  },
  {
   "cell_type": "markdown",
   "metadata": {},
   "source": [
    "### 2.3 Neural Network Training"
   ]
  },
  {
   "cell_type": "code",
   "execution_count": 40,
   "metadata": {},
   "outputs": [],
   "source": [
    "# Import implemenation from file\n",
    "import neural_network as nn"
   ]
  },
  {
   "cell_type": "code",
   "execution_count": 47,
   "metadata": {},
   "outputs": [],
   "source": [
    "# create model and add layers\n",
    "model = nn.NetModel()\n",
    "model.add(nn.DenseLayer(784, 128))\n",
    "model.add(nn.ActivationReLU())\n",
    "model.add(nn.DenseLayer(128, 64))\n",
    "model.add(nn.ActivationReLU())\n",
    "model.add(nn.DenseLayer(64, 10))\n",
    "model.add(nn.ActivationSoftmax())\n",
    "\n",
    "# set loss function, accuracy and optimizer\n",
    "model.set(\n",
    "    loss = nn.CategoricalCrossEntropyLoss(),\n",
    "    accuracy = nn.CategoricalAccuracy(),\n",
    "    optimizer = nn.AdamOptimizer(decay=1e-4)\n",
    ")\n",
    "\n",
    "# compile model\n",
    "model.compile()"
   ]
  },
  {
   "cell_type": "code",
   "execution_count": 48,
   "metadata": {},
   "outputs": [
    {
     "name": "stdout",
     "output_type": "stream",
     "text": [
      "Epoch: 1/150, acc: 0.127, data_loss: 2.303, lr:0.001\n",
      "Epoch: 2/150, acc: 0.306, data_loss: 2.302, lr:0.000999900009999\n",
      "Epoch: 3/150, acc: 0.348, data_loss: 2.300, lr:0.0009998000399920016\n",
      "Epoch: 4/150, acc: 0.371, data_loss: 2.298, lr:0.000999700089973008\n",
      "Epoch: 5/150, acc: 0.398, data_loss: 2.295, lr:0.0009996001599360256\n",
      "Epoch: 6/150, acc: 0.393, data_loss: 2.291, lr:0.0009995002498750624\n",
      "Epoch: 7/150, acc: 0.378, data_loss: 2.285, lr:0.0009994003597841295\n",
      "Epoch: 8/150, acc: 0.365, data_loss: 2.278, lr:0.0009993004896572402\n",
      "Epoch: 9/150, acc: 0.358, data_loss: 2.269, lr:0.0009992006394884093\n",
      "Epoch: 10/150, acc: 0.355, data_loss: 2.258, lr:0.0009991008092716555\n",
      "Epoch: 11/150, acc: 0.350, data_loss: 2.244, lr:0.0009990009990009992\n",
      "Epoch: 12/150, acc: 0.347, data_loss: 2.227, lr:0.0009989012086704624\n",
      "Epoch: 13/150, acc: 0.344, data_loss: 2.208, lr:0.000998801438274071\n",
      "Epoch: 14/150, acc: 0.342, data_loss: 2.184, lr:0.0009987016878058523\n",
      "Epoch: 15/150, acc: 0.339, data_loss: 2.158, lr:0.000998601957259836\n",
      "Epoch: 16/150, acc: 0.337, data_loss: 2.127, lr:0.0009985022466300548\n",
      "Epoch: 17/150, acc: 0.336, data_loss: 2.093, lr:0.000998402555910543\n",
      "Epoch: 18/150, acc: 0.336, data_loss: 2.055, lr:0.000998302885095338\n",
      "Epoch: 19/150, acc: 0.339, data_loss: 2.014, lr:0.0009982032341784787\n",
      "Epoch: 20/150, acc: 0.341, data_loss: 1.969, lr:0.0009981036031540074\n",
      "Epoch: 21/150, acc: 0.347, data_loss: 1.921, lr:0.000998003992015968\n",
      "Epoch: 22/150, acc: 0.355, data_loss: 1.871, lr:0.0009979044007584073\n",
      "Epoch: 23/150, acc: 0.367, data_loss: 1.819, lr:0.0009978048293753743\n",
      "Epoch: 24/150, acc: 0.384, data_loss: 1.764, lr:0.0009977052778609198\n",
      "Epoch: 25/150, acc: 0.399, data_loss: 1.708, lr:0.0009976057462090984\n",
      "Epoch: 26/150, acc: 0.417, data_loss: 1.652, lr:0.0009975062344139652\n",
      "Epoch: 27/150, acc: 0.432, data_loss: 1.595, lr:0.0009974067424695793\n",
      "Epoch: 28/150, acc: 0.445, data_loss: 1.538, lr:0.0009973072703700011\n",
      "Epoch: 29/150, acc: 0.457, data_loss: 1.482, lr:0.000997207818109294\n",
      "Epoch: 30/150, acc: 0.472, data_loss: 1.428, lr:0.0009971083856815236\n",
      "Epoch: 31/150, acc: 0.485, data_loss: 1.375, lr:0.0009970089730807579\n",
      "Epoch: 32/150, acc: 0.504, data_loss: 1.325, lr:0.0009969095803010666\n",
      "Epoch: 33/150, acc: 0.537, data_loss: 1.276, lr:0.000996810207336523\n",
      "Epoch: 34/150, acc: 0.588, data_loss: 1.230, lr:0.000996710854181202\n",
      "Epoch: 35/150, acc: 0.632, data_loss: 1.186, lr:0.0009966115208291807\n",
      "Epoch: 36/150, acc: 0.661, data_loss: 1.143, lr:0.000996512207274539\n",
      "Epoch: 37/150, acc: 0.677, data_loss: 1.103, lr:0.0009964129135113591\n",
      "Epoch: 38/150, acc: 0.692, data_loss: 1.064, lr:0.0009963136395337252\n",
      "Epoch: 39/150, acc: 0.707, data_loss: 1.027, lr:0.0009962143853357243\n",
      "Epoch: 40/150, acc: 0.722, data_loss: 0.991, lr:0.0009961151509114453\n",
      "Epoch: 41/150, acc: 0.736, data_loss: 0.956, lr:0.00099601593625498\n",
      "Epoch: 42/150, acc: 0.751, data_loss: 0.922, lr:0.0009959167413604224\n",
      "Epoch: 43/150, acc: 0.760, data_loss: 0.890, lr:0.0009958175662218682\n",
      "Epoch: 44/150, acc: 0.766, data_loss: 0.860, lr:0.0009957184108334164\n",
      "Epoch: 45/150, acc: 0.773, data_loss: 0.831, lr:0.0009956192751891678\n",
      "Epoch: 46/150, acc: 0.777, data_loss: 0.802, lr:0.0009955201592832257\n",
      "Epoch: 47/150, acc: 0.782, data_loss: 0.775, lr:0.0009954210631096954\n",
      "Epoch: 48/150, acc: 0.786, data_loss: 0.749, lr:0.0009953219866626855\n",
      "Epoch: 49/150, acc: 0.789, data_loss: 0.724, lr:0.0009952229299363057\n",
      "Epoch: 50/150, acc: 0.796, data_loss: 0.701, lr:0.0009951238929246692\n",
      "Epoch: 51/150, acc: 0.801, data_loss: 0.680, lr:0.0009950248756218907\n",
      "Epoch: 52/150, acc: 0.807, data_loss: 0.659, lr:0.0009949258780220871\n",
      "Epoch: 53/150, acc: 0.811, data_loss: 0.640, lr:0.000994826900119379\n",
      "Epoch: 54/150, acc: 0.816, data_loss: 0.622, lr:0.0009947279419078882\n",
      "Epoch: 55/150, acc: 0.820, data_loss: 0.605, lr:0.0009946290033817386\n",
      "Epoch: 56/150, acc: 0.823, data_loss: 0.589, lr:0.000994530084535057\n",
      "Epoch: 57/150, acc: 0.826, data_loss: 0.574, lr:0.000994431185361973\n",
      "Epoch: 58/150, acc: 0.831, data_loss: 0.560, lr:0.0009943323058566173\n",
      "Epoch: 59/150, acc: 0.834, data_loss: 0.548, lr:0.0009942334460131238\n",
      "Epoch: 60/150, acc: 0.837, data_loss: 0.535, lr:0.0009941346058256288\n",
      "Epoch: 61/150, acc: 0.840, data_loss: 0.524, lr:0.0009940357852882705\n",
      "Epoch: 62/150, acc: 0.844, data_loss: 0.513, lr:0.0009939369843951894\n",
      "Epoch: 63/150, acc: 0.847, data_loss: 0.503, lr:0.0009938382031405288\n",
      "Epoch: 64/150, acc: 0.849, data_loss: 0.494, lr:0.0009937394415184338\n",
      "Epoch: 65/150, acc: 0.851, data_loss: 0.485, lr:0.0009936406995230524\n",
      "Epoch: 66/150, acc: 0.853, data_loss: 0.477, lr:0.0009935419771485345\n",
      "Epoch: 67/150, acc: 0.857, data_loss: 0.469, lr:0.0009934432743890324\n",
      "Epoch: 68/150, acc: 0.859, data_loss: 0.462, lr:0.0009933445912387007\n",
      "Epoch: 69/150, acc: 0.862, data_loss: 0.455, lr:0.0009932459276916965\n",
      "Epoch: 70/150, acc: 0.863, data_loss: 0.448, lr:0.000993147283742179\n",
      "Epoch: 71/150, acc: 0.865, data_loss: 0.442, lr:0.00099304865938431\n",
      "Epoch: 72/150, acc: 0.865, data_loss: 0.436, lr:0.000992950054612253\n",
      "Epoch: 73/150, acc: 0.867, data_loss: 0.431, lr:0.0009928514694201747\n",
      "Epoch: 74/150, acc: 0.868, data_loss: 0.425, lr:0.0009927529038022435\n",
      "Epoch: 75/150, acc: 0.869, data_loss: 0.420, lr:0.0009926543577526304\n",
      "Epoch: 76/150, acc: 0.870, data_loss: 0.415, lr:0.0009925558312655087\n",
      "Epoch: 77/150, acc: 0.872, data_loss: 0.411, lr:0.0009924573243350536\n",
      "Epoch: 78/150, acc: 0.874, data_loss: 0.406, lr:0.0009923588369554431\n",
      "Epoch: 79/150, acc: 0.876, data_loss: 0.402, lr:0.0009922603691208572\n",
      "Epoch: 80/150, acc: 0.878, data_loss: 0.397, lr:0.0009921619208254787\n",
      "Epoch: 81/150, acc: 0.879, data_loss: 0.393, lr:0.000992063492063492\n",
      "Epoch: 82/150, acc: 0.881, data_loss: 0.389, lr:0.0009919650828290846\n",
      "Epoch: 83/150, acc: 0.883, data_loss: 0.385, lr:0.0009918666931164452\n",
      "Epoch: 84/150, acc: 0.885, data_loss: 0.381, lr:0.000991768322919766\n",
      "Epoch: 85/150, acc: 0.886, data_loss: 0.378, lr:0.0009916699722332409\n",
      "Epoch: 86/150, acc: 0.887, data_loss: 0.374, lr:0.000991571641051066\n",
      "Epoch: 87/150, acc: 0.888, data_loss: 0.370, lr:0.00099147332936744\n",
      "Epoch: 88/150, acc: 0.889, data_loss: 0.367, lr:0.000991375037176564\n",
      "Epoch: 89/150, acc: 0.890, data_loss: 0.364, lr:0.0009912767644726407\n",
      "Epoch: 90/150, acc: 0.890, data_loss: 0.360, lr:0.0009911785112498763\n",
      "Epoch: 91/150, acc: 0.890, data_loss: 0.357, lr:0.000991080277502478\n",
      "Epoch: 92/150, acc: 0.892, data_loss: 0.354, lr:0.0009909820632246556\n",
      "Epoch: 93/150, acc: 0.893, data_loss: 0.350, lr:0.0009908838684106222\n",
      "Epoch: 94/150, acc: 0.893, data_loss: 0.347, lr:0.0009907856930545921\n",
      "Epoch: 95/150, acc: 0.895, data_loss: 0.344, lr:0.0009906875371507827\n",
      "Epoch: 96/150, acc: 0.896, data_loss: 0.341, lr:0.0009905894006934125\n",
      "Epoch: 97/150, acc: 0.897, data_loss: 0.338, lr:0.0009904912836767037\n",
      "Epoch: 98/150, acc: 0.898, data_loss: 0.335, lr:0.0009903931860948795\n",
      "Epoch: 99/150, acc: 0.899, data_loss: 0.332, lr:0.0009902951079421667\n",
      "Epoch: 100/150, acc: 0.901, data_loss: 0.329, lr:0.0009901970492127933\n",
      "Epoch: 101/150, acc: 0.901, data_loss: 0.326, lr:0.0009900990099009901\n",
      "Epoch: 102/150, acc: 0.902, data_loss: 0.323, lr:0.00099000099000099\n",
      "Epoch: 103/150, acc: 0.902, data_loss: 0.320, lr:0.0009899029895070284\n",
      "Epoch: 104/150, acc: 0.904, data_loss: 0.317, lr:0.0009898050084133426\n",
      "Epoch: 105/150, acc: 0.905, data_loss: 0.315, lr:0.0009897070467141727\n",
      "Epoch: 106/150, acc: 0.906, data_loss: 0.312, lr:0.0009896091044037606\n",
      "Epoch: 107/150, acc: 0.907, data_loss: 0.309, lr:0.0009895111814763509\n",
      "Epoch: 108/150, acc: 0.908, data_loss: 0.306, lr:0.0009894132779261898\n",
      "Epoch: 109/150, acc: 0.909, data_loss: 0.304, lr:0.0009893153937475267\n",
      "Epoch: 110/150, acc: 0.909, data_loss: 0.301, lr:0.0009892175289346128\n",
      "Epoch: 111/150, acc: 0.909, data_loss: 0.298, lr:0.0009891196834817015\n",
      "Epoch: 112/150, acc: 0.910, data_loss: 0.295, lr:0.000989021857383048\n",
      "Epoch: 113/150, acc: 0.910, data_loss: 0.293, lr:0.0009889240506329115\n",
      "Epoch: 114/150, acc: 0.911, data_loss: 0.290, lr:0.0009888262632255513\n",
      "Epoch: 115/150, acc: 0.912, data_loss: 0.288, lr:0.0009887284951552303\n",
      "Epoch: 116/150, acc: 0.913, data_loss: 0.285, lr:0.0009886307464162135\n",
      "Epoch: 117/150, acc: 0.914, data_loss: 0.282, lr:0.0009885330170027679\n",
      "Epoch: 118/150, acc: 0.914, data_loss: 0.280, lr:0.0009884353069091628\n"
     ]
    },
    {
     "name": "stdout",
     "output_type": "stream",
     "text": [
      "Epoch: 119/150, acc: 0.915, data_loss: 0.277, lr:0.0009883376161296698\n",
      "Epoch: 120/150, acc: 0.916, data_loss: 0.275, lr:0.000988239944658563\n",
      "Epoch: 121/150, acc: 0.917, data_loss: 0.272, lr:0.0009881422924901185\n",
      "Epoch: 122/150, acc: 0.918, data_loss: 0.270, lr:0.0009880446596186147\n",
      "Epoch: 123/150, acc: 0.918, data_loss: 0.267, lr:0.0009879470460383323\n",
      "Epoch: 124/150, acc: 0.919, data_loss: 0.265, lr:0.0009878494517435543\n",
      "Epoch: 125/150, acc: 0.920, data_loss: 0.263, lr:0.0009877518767285659\n",
      "Epoch: 126/150, acc: 0.920, data_loss: 0.260, lr:0.0009876543209876543\n",
      "Epoch: 127/150, acc: 0.921, data_loss: 0.258, lr:0.0009875567845151097\n",
      "Epoch: 128/150, acc: 0.922, data_loss: 0.256, lr:0.0009874592673052237\n",
      "Epoch: 129/150, acc: 0.922, data_loss: 0.253, lr:0.0009873617693522908\n",
      "Epoch: 130/150, acc: 0.923, data_loss: 0.251, lr:0.0009872642906506074\n",
      "Epoch: 131/150, acc: 0.924, data_loss: 0.249, lr:0.000987166831194472\n",
      "Epoch: 132/150, acc: 0.925, data_loss: 0.247, lr:0.0009870693909781857\n",
      "Epoch: 133/150, acc: 0.926, data_loss: 0.244, lr:0.000986971969996052\n",
      "Epoch: 134/150, acc: 0.926, data_loss: 0.242, lr:0.0009868745682423763\n",
      "Epoch: 135/150, acc: 0.927, data_loss: 0.240, lr:0.0009867771857114663\n",
      "Epoch: 136/150, acc: 0.927, data_loss: 0.238, lr:0.0009866798223976318\n",
      "Epoch: 137/150, acc: 0.929, data_loss: 0.236, lr:0.0009865824782951855\n",
      "Epoch: 138/150, acc: 0.930, data_loss: 0.234, lr:0.0009864851533984414\n",
      "Epoch: 139/150, acc: 0.930, data_loss: 0.232, lr:0.0009863878477017164\n",
      "Epoch: 140/150, acc: 0.930, data_loss: 0.230, lr:0.0009862905611993293\n",
      "Epoch: 141/150, acc: 0.931, data_loss: 0.228, lr:0.0009861932938856016\n",
      "Epoch: 142/150, acc: 0.932, data_loss: 0.226, lr:0.0009860960457548566\n",
      "Epoch: 143/150, acc: 0.933, data_loss: 0.224, lr:0.00098599881680142\n",
      "Epoch: 144/150, acc: 0.934, data_loss: 0.222, lr:0.0009859016070196194\n",
      "Epoch: 145/150, acc: 0.935, data_loss: 0.220, lr:0.0009858044164037854\n",
      "Epoch: 146/150, acc: 0.935, data_loss: 0.218, lr:0.0009857072449482504\n",
      "Epoch: 147/150, acc: 0.936, data_loss: 0.216, lr:0.0009856100926473488\n",
      "Epoch: 148/150, acc: 0.937, data_loss: 0.214, lr:0.0009855129594954174\n",
      "Epoch: 149/150, acc: 0.938, data_loss: 0.212, lr:0.0009854158454867955\n",
      "Epoch: 150/150, acc: 0.939, data_loss: 0.210, lr:0.0009853187506158243\n"
     ]
    }
   ],
   "source": [
    "# train model on train data\n",
    "model.train(X_train, y_train, epochs=150)"
   ]
  },
  {
   "cell_type": "code",
   "execution_count": 49,
   "metadata": {},
   "outputs": [
    {
     "name": "stdout",
     "output_type": "stream",
     "text": [
      "Accuracy: 0.917\n"
     ]
    }
   ],
   "source": [
    "# test and evaluate\n",
    "model.evaluate(X_test, y_test)"
   ]
  },
  {
   "cell_type": "markdown",
   "metadata": {},
   "source": [
    "### 2.4 MLPClassifier Training"
   ]
  },
  {
   "cell_type": "code",
   "execution_count": 21,
   "metadata": {},
   "outputs": [],
   "source": [
    "# import required classes\n",
    "from sklearn.neural_network import MLPClassifier"
   ]
  },
  {
   "cell_type": "code",
   "execution_count": null,
   "metadata": {},
   "outputs": [],
   "source": []
  },
  {
   "cell_type": "markdown",
   "metadata": {},
   "source": [
    "### 2.5 Comparison"
   ]
  },
  {
   "cell_type": "code",
   "execution_count": 5,
   "metadata": {},
   "outputs": [],
   "source": []
  },
  {
   "cell_type": "markdown",
   "metadata": {},
   "source": []
  },
  {
   "cell_type": "markdown",
   "metadata": {},
   "source": [
    "## Further tasks"
   ]
  },
  {
   "cell_type": "markdown",
   "metadata": {},
   "source": [
    "- TBD"
   ]
  },
  {
   "cell_type": "markdown",
   "metadata": {},
   "source": [
    "## Resources"
   ]
  },
  {
   "cell_type": "markdown",
   "metadata": {},
   "source": [
    "- TBD"
   ]
  }
 ],
 "metadata": {
  "kernelspec": {
   "display_name": "Python 3",
   "language": "python",
   "name": "python3"
  },
  "language_info": {
   "codemirror_mode": {
    "name": "ipython",
    "version": 3
   },
   "file_extension": ".py",
   "mimetype": "text/x-python",
   "name": "python",
   "nbconvert_exporter": "python",
   "pygments_lexer": "ipython3",
   "version": "3.8.4"
  }
 },
 "nbformat": 4,
 "nbformat_minor": 1
}
